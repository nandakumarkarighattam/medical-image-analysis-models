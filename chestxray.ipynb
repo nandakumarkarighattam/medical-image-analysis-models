{
 "cells": [
  {
   "cell_type": "code",
   "execution_count": 1,
   "metadata": {},
   "outputs": [],
   "source": [
    "import tensorflow as tf\n",
    "from tensorflow import keras"
   ]
  },
  {
   "cell_type": "code",
   "execution_count": 2,
   "metadata": {},
   "outputs": [],
   "source": [
    "%matplotlib inline\n",
    "import numpy as np # linear algebra\n",
    "import pandas as pd # data processing, CSV file I/O (e.g. pd.read_csv)\n",
    "from glob import glob \n",
    "import matplotlib.pyplot as plt\n",
    "import os\n",
    "import pandas as pd\n",
    "import seaborn as sns\n",
    "from skimage.io import imread\n"
   ]
  },
  {
   "cell_type": "code",
   "execution_count": 3,
   "metadata": {},
   "outputs": [],
   "source": [
    "from tensorflow.keras.layers import Dense, Flatten, Conv2D\n",
    "from tensorflow.keras import Model"
   ]
  },
  {
   "cell_type": "code",
   "execution_count": 4,
   "metadata": {},
   "outputs": [
    {
     "name": "stderr",
     "output_type": "stream",
     "text": [
      "Using TensorFlow backend.\n"
     ]
    }
   ],
   "source": [
    "##Import libraries\n",
    "from keras.models import Sequential\n",
    "from keras.layers import Convolution2D\n",
    "from keras.layers import MaxPooling2D\n",
    "from keras.layers import Flatten\n",
    "from keras.layers import Dense"
   ]
  },
  {
   "cell_type": "code",
   "execution_count": 5,
   "metadata": {},
   "outputs": [],
   "source": [
    "IMAGE_SIZE = 64\n",
    "# Base model with MobileNetV2\n",
    "IMG_SHAPE = (IMAGE_SIZE, IMAGE_SIZE, 3)"
   ]
  },
  {
   "cell_type": "code",
   "execution_count": 6,
   "metadata": {},
   "outputs": [],
   "source": [
    "base_model = keras.applications.VGG16(input_shape=IMG_SHAPE,\n",
    "                                               include_top=False, \n",
    "                                               weights='imagenet')"
   ]
  },
  {
   "cell_type": "code",
   "execution_count": 7,
   "metadata": {},
   "outputs": [],
   "source": [
    "base_model.trainable = False"
   ]
  },
  {
   "cell_type": "code",
   "execution_count": 8,
   "metadata": {},
   "outputs": [],
   "source": [
    "# Trainable classification head\n",
    "maxpool_layer = keras.layers.GlobalMaxPooling2D()\n",
    "prediction_layer = keras.layers.Dense(1, activation='sigmoid')"
   ]
  },
  {
   "cell_type": "code",
   "execution_count": 9,
   "metadata": {},
   "outputs": [],
   "source": [
    "#learning_rate = 0.0001\n",
    "\n",
    "classifier = keras.Sequential([\n",
    "    base_model,\n",
    "    maxpool_layer,\n",
    "    prediction_layer\n",
    "])"
   ]
  },
  {
   "cell_type": "code",
   "execution_count": 10,
   "metadata": {},
   "outputs": [],
   "source": [
    "classifier.compile(optimizer=keras.optimizers.Adam(),\n",
    "             loss='binary_crossentropy',\n",
    "             metrics=['accuracy'])"
   ]
  },
  {
   "cell_type": "code",
   "execution_count": 11,
   "metadata": {},
   "outputs": [],
   "source": [
    "## data importing and transforming and scaling\n",
    "from keras.preprocessing.image import ImageDataGenerator\n",
    "train_datagen = ImageDataGenerator(\n",
    "        rescale=1./255,\n",
    "        shear_range=0.2,\n",
    "        zoom_range=0.2,\n",
    "        horizontal_flip=True)"
   ]
  },
  {
   "cell_type": "code",
   "execution_count": 12,
   "metadata": {},
   "outputs": [],
   "source": [
    "## Scaling test data\n",
    "test_datagen = ImageDataGenerator(rescale=1./255)"
   ]
  },
  {
   "cell_type": "code",
   "execution_count": 13,
   "metadata": {},
   "outputs": [
    {
     "name": "stdout",
     "output_type": "stream",
     "text": [
      "Found 3513 images belonging to 2 classes.\n"
     ]
    }
   ],
   "source": [
    "train_set = train_datagen.flow_from_directory(r\"C:\\Users\\Nanda Kumar\\Downloads\\chest-xray-images-for-classification-pneumonia/pneumonia/train\",\n",
    "                                               target_size=(64, 64),\n",
    "                                               batch_size=6,\n",
    "                                               class_mode='binary')"
   ]
  },
  {
   "cell_type": "code",
   "execution_count": 14,
   "metadata": {},
   "outputs": [
    {
     "name": "stdout",
     "output_type": "stream",
     "text": [
      "Found 1171 images belonging to 2 classes.\n"
     ]
    }
   ],
   "source": [
    "test_set = test_datagen.flow_from_directory(r\"C:\\Users\\Nanda Kumar\\Downloads\\chest-xray-images-for-classification-pneumonia/pneumonia/test\",\n",
    "                                               target_size=(64, 64),\n",
    "                                               batch_size=6,\n",
    "                                               class_mode='binary')"
   ]
  },
  {
   "cell_type": "code",
   "execution_count": 15,
   "metadata": {},
   "outputs": [
    {
     "name": "stdout",
     "output_type": "stream",
     "text": [
      "{'NORMAL': 0, 'PNEUMONIA': 1}\n"
     ]
    }
   ],
   "source": [
    "#which is normal which is abnormal?\n",
    "label_map = (train_set.class_indices)\n",
    "print(label_map)"
   ]
  },
  {
   "cell_type": "code",
   "execution_count": 16,
   "metadata": {},
   "outputs": [
    {
     "name": "stdout",
     "output_type": "stream",
     "text": [
      "Epoch 1/10\n",
      "WARNING:tensorflow:From C:\\ProgramData\\Anaconda3\\lib\\site-packages\\tensorflow_core\\python\\ops\\math_grad.py:1394: where (from tensorflow.python.ops.array_ops) is deprecated and will be removed in a future version.\n",
      "Instructions for updating:\n",
      "Use tf.where in 2.0, which has the same broadcast rule as np.where\n",
      "98/98 [==============================] - 99s 1s/step - loss: 0.5171 - accuracy: 0.7092 - val_loss: 0.4577 - val_accuracy: 0.8070\n",
      "Epoch 2/10\n",
      "98/98 [==============================] - 99s 1s/step - loss: 0.4483 - accuracy: 0.8044 - val_loss: 0.4026 - val_accuracy: 0.8991\n",
      "Epoch 3/10\n",
      "98/98 [==============================] - 100s 1s/step - loss: 0.4049 - accuracy: 0.8282 - val_loss: 0.3573 - val_accuracy: 0.8991\n",
      "Epoch 4/10\n",
      "98/98 [==============================] - 100s 1s/step - loss: 0.3561 - accuracy: 0.8469 - val_loss: 0.3248 - val_accuracy: 0.8991\n",
      "Epoch 5/10\n",
      "98/98 [==============================] - 98s 995ms/step - loss: 0.3528 - accuracy: 0.8410 - val_loss: 0.3044 - val_accuracy: 0.9035\n",
      "Epoch 6/10\n",
      "98/98 [==============================] - 99s 1s/step - loss: 0.3471 - accuracy: 0.8452 - val_loss: 0.2964 - val_accuracy: 0.9254\n",
      "Epoch 7/10\n",
      "98/98 [==============================] - 99s 1s/step - loss: 0.3169 - accuracy: 0.8656 - val_loss: 0.2812 - val_accuracy: 0.9254\n",
      "Epoch 8/10\n",
      "98/98 [==============================] - 97s 985ms/step - loss: 0.3062 - accuracy: 0.8769 - val_loss: 0.2914 - val_accuracy: 0.8904\n",
      "Epoch 9/10\n",
      "98/98 [==============================] - 100s 1s/step - loss: 0.3044 - accuracy: 0.8741 - val_loss: 0.2550 - val_accuracy: 0.9254\n",
      "Epoch 10/10\n",
      "98/98 [==============================] - 99s 1s/step - loss: 0.2800 - accuracy: 0.8912 - val_loss: 0.2678 - val_accuracy: 0.9123\n"
     ]
    },
    {
     "data": {
      "text/plain": [
       "<tensorflow.python.keras.callbacks.History at 0x15687586248>"
      ]
     },
     "execution_count": 16,
     "metadata": {},
     "output_type": "execute_result"
    }
   ],
   "source": [
    "## fitting model to images\n",
    "classifier.fit_generator(\n",
    "        train_set,\n",
    "        steps_per_epoch=98,\n",
    "        epochs=10,\n",
    "        validation_data=test_set,\n",
    "        validation_steps=38)"
   ]
  },
  {
   "cell_type": "code",
   "execution_count": 17,
   "metadata": {},
   "outputs": [],
   "source": [
    "## prediction of single new data\n",
    "import numpy as np\n",
    "import keras\n",
    "from keras.preprocessing import image"
   ]
  },
  {
   "cell_type": "code",
   "execution_count": 18,
   "metadata": {},
   "outputs": [],
   "source": [
    "import PIL"
   ]
  },
  {
   "cell_type": "code",
   "execution_count": 19,
   "metadata": {},
   "outputs": [],
   "source": [
    "test_image= image.load_img(r\"C:\\Users\\Nanda Kumar\\Downloads\\chest-xray-images-for-classification-pneumonia\\pneumonia\\train\\NORMAL\\IM-0003-0001.jpeg\",target_size =(64,64))"
   ]
  },
  {
   "cell_type": "code",
   "execution_count": 20,
   "metadata": {},
   "outputs": [
    {
     "data": {
      "image/png": "[encoded data removed]",
      "text/plain": [
       "<PIL.Image.Image image mode=RGB size=64x64 at 0x156882C98C8>"
      ]
     },
     "execution_count": 20,
     "metadata": {},
     "output_type": "execute_result"
    }
   ],
   "source": [
    "test_image"
   ]
  },
  {
   "cell_type": "code",
   "execution_count": 21,
   "metadata": {},
   "outputs": [],
   "source": [
    "## Convert image to array\n",
    "test_image = image.img_to_array(test_image)"
   ]
  },
  {
   "cell_type": "code",
   "execution_count": 22,
   "metadata": {},
   "outputs": [
    {
     "data": {
      "text/plain": [
       "array([[[ 34.,  34.,  34.],\n",
       "        [ 43.,  43.,  43.],\n",
       "        [ 89.,  89.,  89.],\n",
       "        ...,\n",
       "        [143., 143., 143.],\n",
       "        [126., 126., 126.],\n",
       "        [115., 115., 115.]],\n",
       "\n",
       "       [[ 34.,  34.,  34.],\n",
       "        [ 22.,  22.,  22.],\n",
       "        [ 85.,  85.,  85.],\n",
       "        ...,\n",
       "        [142., 142., 142.],\n",
       "        [122., 122., 122.],\n",
       "        [111., 111., 111.]],\n",
       "\n",
       "       [[ 38.,  38.,  38.],\n",
       "        [ 26.,  26.,  26.],\n",
       "        [ 77.,  77.,  77.],\n",
       "        ...,\n",
       "        [136., 136., 136.],\n",
       "        [123., 123., 123.],\n",
       "        [100., 100., 100.]],\n",
       "\n",
       "       ...,\n",
       "\n",
       "       [[ 39.,  39.,  39.],\n",
       "        [ 39.,  39.,  39.],\n",
       "        [ 38.,  38.,  38.],\n",
       "        ...,\n",
       "        [ 33.,  33.,  33.],\n",
       "        [ 35.,  35.,  35.],\n",
       "        [ 37.,  37.,  37.]],\n",
       "\n",
       "       [[ 42.,  42.,  42.],\n",
       "        [ 39.,  39.,  39.],\n",
       "        [ 40.,  40.,  40.],\n",
       "        ...,\n",
       "        [ 34.,  34.,  34.],\n",
       "        [ 32.,  32.,  32.],\n",
       "        [ 33.,  33.,  33.]],\n",
       "\n",
       "       [[ 36.,  36.,  36.],\n",
       "        [ 42.,  42.,  42.],\n",
       "        [ 40.,  40.,  40.],\n",
       "        ...,\n",
       "        [ 32.,  32.,  32.],\n",
       "        [ 34.,  34.,  34.],\n",
       "        [ 32.,  32.,  32.]]], dtype=float32)"
      ]
     },
     "execution_count": 22,
     "metadata": {},
     "output_type": "execute_result"
    }
   ],
   "source": [
    "test_image"
   ]
  },
  {
   "cell_type": "code",
   "execution_count": 23,
   "metadata": {},
   "outputs": [],
   "source": [
    "## For single prediction change the dimension using axis. To remove problem of batch\n",
    "test_image = np.expand_dims(test_image,axis = 0)\n",
    "result = classifier.predict(test_image)"
   ]
  },
  {
   "cell_type": "code",
   "execution_count": 24,
   "metadata": {},
   "outputs": [],
   "source": [
    "## Class of normal and abnormal\n",
    "\n",
    "if result[0][0] == 1:\n",
    "    prediction = 'normal'\n",
    "else:\n",
    "   prediction = 'abnormal'"
   ]
  },
  {
   "cell_type": "code",
   "execution_count": 25,
   "metadata": {},
   "outputs": [
    {
     "data": {
      "text/plain": [
       "'abnormal'"
      ]
     },
     "execution_count": 25,
     "metadata": {},
     "output_type": "execute_result"
    }
   ],
   "source": [
    "prediction"
   ]
  },
  {
   "cell_type": "code",
   "execution_count": 26,
   "metadata": {},
   "outputs": [
    {
     "data": {
      "text/plain": [
       "array([[[[ 34.,  34.,  34.],\n",
       "         [ 43.,  43.,  43.],\n",
       "         [ 89.,  89.,  89.],\n",
       "         ...,\n",
       "         [143., 143., 143.],\n",
       "         [126., 126., 126.],\n",
       "         [115., 115., 115.]],\n",
       "\n",
       "        [[ 34.,  34.,  34.],\n",
       "         [ 22.,  22.,  22.],\n",
       "         [ 85.,  85.,  85.],\n",
       "         ...,\n",
       "         [142., 142., 142.],\n",
       "         [122., 122., 122.],\n",
       "         [111., 111., 111.]],\n",
       "\n",
       "        [[ 38.,  38.,  38.],\n",
       "         [ 26.,  26.,  26.],\n",
       "         [ 77.,  77.,  77.],\n",
       "         ...,\n",
       "         [136., 136., 136.],\n",
       "         [123., 123., 123.],\n",
       "         [100., 100., 100.]],\n",
       "\n",
       "        ...,\n",
       "\n",
       "        [[ 39.,  39.,  39.],\n",
       "         [ 39.,  39.,  39.],\n",
       "         [ 38.,  38.,  38.],\n",
       "         ...,\n",
       "         [ 33.,  33.,  33.],\n",
       "         [ 35.,  35.,  35.],\n",
       "         [ 37.,  37.,  37.]],\n",
       "\n",
       "        [[ 42.,  42.,  42.],\n",
       "         [ 39.,  39.,  39.],\n",
       "         [ 40.,  40.,  40.],\n",
       "         ...,\n",
       "         [ 34.,  34.,  34.],\n",
       "         [ 32.,  32.,  32.],\n",
       "         [ 33.,  33.,  33.]],\n",
       "\n",
       "        [[ 36.,  36.,  36.],\n",
       "         [ 42.,  42.,  42.],\n",
       "         [ 40.,  40.,  40.],\n",
       "         ...,\n",
       "         [ 32.,  32.,  32.],\n",
       "         [ 34.,  34.,  34.],\n",
       "         [ 32.,  32.,  32.]]]], dtype=float32)"
      ]
     },
     "execution_count": 26,
     "metadata": {},
     "output_type": "execute_result"
    }
   ],
   "source": [
    "test_image"
   ]
  },
  {
   "cell_type": "code",
   "execution_count": null,
   "metadata": {},
   "outputs": [],
   "source": []
  }
 ],
 "metadata": {
  "kernelspec": {
   "display_name": "Python 3",
   "language": "python",
   "name": "python3"
  },
  "language_info": {
   "codemirror_mode": {
    "name": "ipython",
    "version": 3
   },
   "file_extension": ".py",
   "mimetype": "text/x-python",
   "name": "python",
   "nbconvert_exporter": "python",
   "pygments_lexer": "ipython3",
   "version": "3.7.4"
  }
 },
 "nbformat": 4,
 "nbformat_minor": 2
}
