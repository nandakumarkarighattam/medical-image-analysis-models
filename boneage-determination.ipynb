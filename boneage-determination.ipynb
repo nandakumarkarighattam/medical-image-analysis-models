{
 "cells": [
  {
   "cell_type": "code",
   "execution_count": 1,
   "metadata": {},
   "outputs": [
    {
     "name": "stdout",
     "output_type": "stream",
     "text": [
      "Requirement already satisfied: keras in c:\\users\\nanda kumar\\new folder\\lib\\site-packages (2.2.4)\n",
      "Requirement already satisfied: h5py in c:\\users\\nanda kumar\\new folder\\lib\\site-packages (from keras) (2.9.0)\n",
      "Requirement already satisfied: keras-applications>=1.0.6 in c:\\users\\nanda kumar\\new folder\\lib\\site-packages (from keras) (1.0.8)\n",
      "Requirement already satisfied: six>=1.9.0 in c:\\users\\nanda kumar\\new folder\\lib\\site-packages (from keras) (1.12.0)\n",
      "Requirement already satisfied: scipy>=0.14 in c:\\users\\nanda kumar\\new folder\\lib\\site-packages (from keras) (1.2.1)\n",
      "Requirement already satisfied: pyyaml in c:\\users\\nanda kumar\\new folder\\lib\\site-packages (from keras) (5.1.1)\n",
      "Requirement already satisfied: numpy>=1.9.1 in c:\\users\\nanda kumar\\new folder\\lib\\site-packages (from keras) (1.16.4)\n",
      "Requirement already satisfied: keras-preprocessing>=1.0.5 in c:\\users\\nanda kumar\\new folder\\lib\\site-packages (from keras) (1.1.0)\n"
     ]
    }
   ],
   "source": [
    "!pip install keras"
   ]
  },
  {
   "cell_type": "code",
   "execution_count": 2,
   "metadata": {},
   "outputs": [
    {
     "name": "stdout",
     "output_type": "stream",
     "text": [
      "Requirement already satisfied: tensorflow in c:\\users\\nanda kumar\\new folder\\lib\\site-packages (1.14.0)\n",
      "Requirement already satisfied: absl-py>=0.7.0 in c:\\users\\nanda kumar\\new folder\\lib\\site-packages (from tensorflow) (0.7.1)\n",
      "Requirement already satisfied: tensorflow-estimator<1.15.0rc0,>=1.14.0rc0 in c:\\users\\nanda kumar\\new folder\\lib\\site-packages (from tensorflow) (1.14.0)\n",
      "Requirement already satisfied: termcolor>=1.1.0 in c:\\users\\nanda kumar\\new folder\\lib\\site-packages (from tensorflow) (1.1.0)\n",
      "Requirement already satisfied: wheel>=0.26 in c:\\users\\nanda kumar\\new folder\\lib\\site-packages (from tensorflow) (0.33.4)\n",
      "Requirement already satisfied: numpy<2.0,>=1.14.5 in c:\\users\\nanda kumar\\new folder\\lib\\site-packages (from tensorflow) (1.16.4)\n",
      "Requirement already satisfied: protobuf>=3.6.1 in c:\\users\\nanda kumar\\new folder\\lib\\site-packages (from tensorflow) (3.9.1)\n",
      "Requirement already satisfied: grpcio>=1.8.6 in c:\\users\\nanda kumar\\new folder\\lib\\site-packages (from tensorflow) (1.22.0)\n",
      "Requirement already satisfied: google-pasta>=0.1.6 in c:\\users\\nanda kumar\\new folder\\lib\\site-packages (from tensorflow) (0.1.7)\n",
      "Requirement already satisfied: gast>=0.2.0 in c:\\users\\nanda kumar\\new folder\\lib\\site-packages (from tensorflow) (0.2.2)\n",
      "Requirement already satisfied: keras-preprocessing>=1.0.5 in c:\\users\\nanda kumar\\new folder\\lib\\site-packages (from tensorflow) (1.1.0)\n",
      "Requirement already satisfied: keras-applications>=1.0.6 in c:\\users\\nanda kumar\\new folder\\lib\\site-packages (from tensorflow) (1.0.8)\n",
      "Requirement already satisfied: tensorboard<1.15.0,>=1.14.0 in c:\\users\\nanda kumar\\new folder\\lib\\site-packages (from tensorflow) (1.14.0)\n",
      "Requirement already satisfied: wrapt>=1.11.1 in c:\\users\\nanda kumar\\new folder\\lib\\site-packages (from tensorflow) (1.11.2)\n",
      "Requirement already satisfied: six>=1.10.0 in c:\\users\\nanda kumar\\new folder\\lib\\site-packages (from tensorflow) (1.12.0)\n",
      "Requirement already satisfied: astor>=0.6.0 in c:\\users\\nanda kumar\\new folder\\lib\\site-packages (from tensorflow) (0.8.0)\n",
      "Requirement already satisfied: setuptools in c:\\users\\nanda kumar\\new folder\\lib\\site-packages (from protobuf>=3.6.1->tensorflow) (41.0.1)\n",
      "Requirement already satisfied: h5py in c:\\users\\nanda kumar\\new folder\\lib\\site-packages (from keras-applications>=1.0.6->tensorflow) (2.9.0)\n",
      "Requirement already satisfied: werkzeug>=0.11.15 in c:\\users\\nanda kumar\\new folder\\lib\\site-packages (from tensorboard<1.15.0,>=1.14.0->tensorflow) (0.15.4)\n",
      "Requirement already satisfied: markdown>=2.6.8 in c:\\users\\nanda kumar\\new folder\\lib\\site-packages (from tensorboard<1.15.0,>=1.14.0->tensorflow) (3.1.1)\n"
     ]
    }
   ],
   "source": [
    "!pip install tensorflow"
   ]
  },
  {
   "cell_type": "code",
   "execution_count": 3,
   "metadata": {},
   "outputs": [
    {
     "name": "stderr",
     "output_type": "stream",
     "text": [
      "Using TensorFlow backend.\n"
     ]
    }
   ],
   "source": [
    "import keras"
   ]
  },
  {
   "cell_type": "code",
   "execution_count": 4,
   "metadata": {},
   "outputs": [
    {
     "name": "stdout",
     "output_type": "stream",
     "text": [
      "          id  boneage   male\n",
      "0       1377      180  False\n",
      "1       1378       12  False\n",
      "2       1379       94  False\n",
      "3       1380      120   True\n",
      "4       1381       82  False\n",
      "5       1382      138   True\n",
      "6       1383      150   True\n",
      "7       1384      156   True\n",
      "8       1385       36   True\n",
      "9       1387      138   True\n",
      "10      1388      126  False\n",
      "11      1389      138   True\n",
      "12      1390      156   True\n",
      "13      1391      180   True\n",
      "14      1393      132  False\n",
      "15      1394       57   True\n",
      "16      1395      120  False\n",
      "17      1396      188  False\n",
      "18      1398        4  False\n",
      "19      1399       36  False\n",
      "20      1400      132  False\n",
      "21      1402       24  False\n",
      "22      1403       60  False\n",
      "23      1404      159  False\n",
      "24      1405      120  False\n",
      "25      1406      106  False\n",
      "26      1407       30  False\n",
      "27      1408      126   True\n",
      "28      1409      149   True\n",
      "29      1411       33  False\n",
      "...      ...      ...    ...\n",
      "12581  15577      144  False\n",
      "12582  15578       72   True\n",
      "12583  15579       96   True\n",
      "12584  15580      162  False\n",
      "12585  15581      132  False\n",
      "12586  15582      150  False\n",
      "12587  15583      132   True\n",
      "12588  15584       54   True\n",
      "12589  15585      162   True\n",
      "12590  15586      192   True\n",
      "12591  15587       50  False\n",
      "12592  15588      113  False\n",
      "12593  15589       84   True\n",
      "12594  15591      162   True\n",
      "12595  15593      180   True\n",
      "12596  15594      108   True\n",
      "12597  15595       78   True\n",
      "12598  15596       72   True\n",
      "12599  15597      192   True\n",
      "12600  15598      120  False\n",
      "12601  15599       36   True\n",
      "12602  15600      144  False\n",
      "12603  15602       82  False\n",
      "12604  15603      106  False\n",
      "12605  15604      168   True\n",
      "12606  15605       50  False\n",
      "12607  15606      113  False\n",
      "12608  15608       55  False\n",
      "12609  15609      150   True\n",
      "12610  15610      132   True\n",
      "\n",
      "[12611 rows x 3 columns]\n"
     ]
    }
   ],
   "source": [
    "import pandas as pd\n",
    "\n",
    "df = pd.read_csv ('boneage-training-dataset.csv')\n",
    "print (df)"
   ]
  },
  {
   "cell_type": "code",
   "execution_count": 5,
   "metadata": {},
   "outputs": [],
   "source": [
    "##Import libraries\n",
    "from keras.models import Sequential\n",
    "from keras.layers import Convolution2D\n",
    "from keras.layers import MaxPooling2D\n",
    "from keras.layers import Flatten\n",
    "from keras.layers import Dense"
   ]
  },
  {
   "cell_type": "code",
   "execution_count": 6,
   "metadata": {},
   "outputs": [],
   "source": [
    "IMAGE_SIZE = 64\n",
    "# Base model with MobileNetV2\n",
    "IMG_SHAPE = (IMAGE_SIZE, IMAGE_SIZE, 3)"
   ]
  },
  {
   "cell_type": "code",
   "execution_count": 7,
   "metadata": {},
   "outputs": [
    {
     "name": "stderr",
     "output_type": "stream",
     "text": [
      "WARNING: Logging before flag parsing goes to stderr.\n",
      "W0811 23:51:41.386970  5008 deprecation_wrapper.py:119] From C:\\Users\\Nanda Kumar\\New folder\\lib\\site-packages\\keras\\backend\\tensorflow_backend.py:74: The name tf.get_default_graph is deprecated. Please use tf.compat.v1.get_default_graph instead.\n",
      "\n",
      "W0811 23:51:41.400958  5008 deprecation_wrapper.py:119] From C:\\Users\\Nanda Kumar\\New folder\\lib\\site-packages\\keras\\backend\\tensorflow_backend.py:517: The name tf.placeholder is deprecated. Please use tf.compat.v1.placeholder instead.\n",
      "\n",
      "W0811 23:51:41.402952  5008 deprecation_wrapper.py:119] From C:\\Users\\Nanda Kumar\\New folder\\lib\\site-packages\\keras\\backend\\tensorflow_backend.py:4138: The name tf.random_uniform is deprecated. Please use tf.random.uniform instead.\n",
      "\n",
      "W0811 23:51:41.420909  5008 deprecation_wrapper.py:119] From C:\\Users\\Nanda Kumar\\New folder\\lib\\site-packages\\keras\\backend\\tensorflow_backend.py:3976: The name tf.nn.max_pool is deprecated. Please use tf.nn.max_pool2d instead.\n",
      "\n",
      "W0811 23:51:41.707175  5008 deprecation_wrapper.py:119] From C:\\Users\\Nanda Kumar\\New folder\\lib\\site-packages\\keras\\backend\\tensorflow_backend.py:174: The name tf.get_default_session is deprecated. Please use tf.compat.v1.get_default_session instead.\n",
      "\n",
      "W0811 23:51:41.708168  5008 deprecation_wrapper.py:119] From C:\\Users\\Nanda Kumar\\New folder\\lib\\site-packages\\keras\\backend\\tensorflow_backend.py:181: The name tf.ConfigProto is deprecated. Please use tf.compat.v1.ConfigProto instead.\n",
      "\n"
     ]
    }
   ],
   "source": [
    "base_model = keras.applications.VGG16(input_shape=IMG_SHAPE,\n",
    "                                               include_top=False, \n",
    "                                               weights='imagenet')"
   ]
  },
  {
   "cell_type": "code",
   "execution_count": 8,
   "metadata": {},
   "outputs": [],
   "source": [
    "base_model.trainable = False"
   ]
  },
  {
   "cell_type": "code",
   "execution_count": 9,
   "metadata": {},
   "outputs": [],
   "source": [
    "# Trainable classification head\n",
    "maxpool_layer = keras.layers.GlobalMaxPooling2D()\n",
    "prediction_layer = keras.layers.Dense(1, activation='sigmoid')"
   ]
  },
  {
   "cell_type": "code",
   "execution_count": 10,
   "metadata": {},
   "outputs": [],
   "source": [
    "#learning_rate = 0.0001\n",
    "\n",
    "classifier = keras.Sequential([\n",
    "    base_model,\n",
    "    maxpool_layer,\n",
    "    prediction_layer\n",
    "])"
   ]
  },
  {
   "cell_type": "code",
   "execution_count": 11,
   "metadata": {},
   "outputs": [
    {
     "name": "stderr",
     "output_type": "stream",
     "text": [
      "W0811 23:51:48.394038  5008 deprecation_wrapper.py:119] From C:\\Users\\Nanda Kumar\\New folder\\lib\\site-packages\\keras\\optimizers.py:790: The name tf.train.Optimizer is deprecated. Please use tf.compat.v1.train.Optimizer instead.\n",
      "\n",
      "W0811 23:51:48.401019  5008 deprecation.py:323] From C:\\Users\\Nanda Kumar\\New folder\\lib\\site-packages\\tensorflow\\python\\ops\\nn_impl.py:180: add_dispatch_support.<locals>.wrapper (from tensorflow.python.ops.array_ops) is deprecated and will be removed in a future version.\n",
      "Instructions for updating:\n",
      "Use tf.where in 2.0, which has the same broadcast rule as np.where\n"
     ]
    }
   ],
   "source": [
    "classifier.compile(optimizer=keras.optimizers.Adam(),\n",
    "             loss='binary_crossentropy',\n",
    "             metrics=['accuracy'])"
   ]
  },
  {
   "cell_type": "code",
   "execution_count": 12,
   "metadata": {},
   "outputs": [],
   "source": [
    "## data importing and transforming and scaling\n",
    "from keras.preprocessing.image import ImageDataGenerator\n",
    "train_datagen = ImageDataGenerator(\n",
    "        rescale=1./255,\n",
    "        shear_range=0.2,\n",
    "        zoom_range=0.2,\n",
    "        horizontal_flip=True)"
   ]
  },
  {
   "cell_type": "code",
   "execution_count": 13,
   "metadata": {},
   "outputs": [],
   "source": [
    "## Scaling test data\n",
    "test_datagen = ImageDataGenerator(rescale=1./255)"
   ]
  },
  {
   "cell_type": "code",
   "execution_count": 16,
   "metadata": {},
   "outputs": [
    {
     "name": "stdout",
     "output_type": "stream",
     "text": [
      "Found 12611 images belonging to 1 classes.\n"
     ]
    }
   ],
   "source": [
    "train_set = train_datagen.flow_from_directory('boneage-training-dataset',\n",
    "                                               target_size=(64, 64),\n",
    "                                               batch_size=6,\n",
    "                                               class_mode='binary')"
   ]
  },
  {
   "cell_type": "code",
   "execution_count": 15,
   "metadata": {},
   "outputs": [
    {
     "name": "stdout",
     "output_type": "stream",
     "text": [
      "Found 200 images belonging to 1 classes.\n"
     ]
    }
   ],
   "source": [
    "test_set = test_datagen.flow_from_directory('boneage-test-dataset',\n",
    "                                            target_size = (64, 64),\n",
    "                                            batch_size = 32,\n",
    "                                            class_mode = 'binary')\n"
   ]
  },
  {
   "cell_type": "code",
   "execution_count": 20,
   "metadata": {},
   "outputs": [
    {
     "name": "stdout",
     "output_type": "stream",
     "text": [
      "{'boneage-training-dataset': 0}\n"
     ]
    }
   ],
   "source": [
    "label_map = (train_set.class_indices)\n",
    "print(label_map)"
   ]
  },
  {
   "cell_type": "code",
   "execution_count": 21,
   "metadata": {},
   "outputs": [
    {
     "name": "stdout",
     "output_type": "stream",
     "text": [
      "Epoch 1/10\n",
      "98/98 [==============================] - 39s 403ms/step - loss: 0.0899 - acc: 0.9949 - val_loss: 0.0314 - val_acc: 1.0000\n",
      "Epoch 2/10\n",
      "98/98 [==============================] - 38s 389ms/step - loss: 0.0092 - acc: 1.0000 - val_loss: 0.0138 - val_acc: 1.0000\n",
      "Epoch 3/10\n",
      "98/98 [==============================] - 37s 382ms/step - loss: 0.0040 - acc: 1.0000 - val_loss: 0.0087 - val_acc: 1.0000\n",
      "Epoch 4/10\n",
      "98/98 [==============================] - 40s 406ms/step - loss: 0.0028 - acc: 1.0000 - val_loss: 0.0059 - val_acc: 1.0000\n",
      "Epoch 5/10\n",
      "98/98 [==============================] - 38s 391ms/step - loss: 0.0019 - acc: 1.0000 - val_loss: 0.0044 - val_acc: 1.0000\n",
      "Epoch 6/10\n",
      "98/98 [==============================] - 39s 400ms/step - loss: 0.0015 - acc: 1.0000 - val_loss: 0.0034 - val_acc: 1.0000s: 0.001\n",
      "Epoch 7/10\n",
      "98/98 [==============================] - 39s 403ms/step - loss: 0.0012 - acc: 1.0000 - val_loss: 0.0027 - val_acc: 1.0000\n",
      "Epoch 8/10\n",
      "98/98 [==============================] - 40s 405ms/step - loss: 8.8583e-04 - acc: 1.0000 - val_loss: 0.0022 - val_acc: 1.0000\n",
      "Epoch 9/10\n",
      "98/98 [==============================] - 40s 405ms/step - loss: 7.7973e-04 - acc: 1.0000 - val_loss: 0.0018 - val_acc: 1.0000\n",
      "Epoch 10/10\n",
      "98/98 [==============================] - 39s 399ms/step - loss: 6.1659e-04 - acc: 1.0000 - val_loss: 0.0016 - val_acc: 1.0000\n"
     ]
    },
    {
     "data": {
      "text/plain": [
       "<keras.callbacks.History at 0x1fc1c0e28d0>"
      ]
     },
     "execution_count": 21,
     "metadata": {},
     "output_type": "execute_result"
    }
   ],
   "source": [
    "## fitting model to images\n",
    "classifier.fit_generator(\n",
    "        train_set,\n",
    "        steps_per_epoch=98,\n",
    "        epochs=10,\n",
    "        validation_data=test_set,\n",
    "        validation_steps=38)"
   ]
  },
  {
   "cell_type": "code",
   "execution_count": 22,
   "metadata": {},
   "outputs": [],
   "source": [
    "## prediction of single new data\n",
    "import numpy as np\n",
    "import keras\n",
    "from keras.preprocessing import image"
   ]
  },
  {
   "cell_type": "code",
   "execution_count": 24,
   "metadata": {},
   "outputs": [],
   "source": [
    "test_image= image.load_img('boneage-training-dataset/boneage-training-dataset/10000.png',target_size =(64,64))"
   ]
  },
  {
   "cell_type": "code",
   "execution_count": 25,
   "metadata": {},
   "outputs": [],
   "source": [
    "## Convert image to array\n",
    "test_image = image.img_to_array(test_image)"
   ]
  },
  {
   "cell_type": "code",
   "execution_count": 26,
   "metadata": {},
   "outputs": [],
   "source": [
    "## For single prediction change the dimension using axis. To remove problem of batch\n",
    "test_image = np.expand_dims(test_image,axis = 0)\n",
    "result = classifier.predict(test_image)"
   ]
  },
  {
   "cell_type": "code",
   "execution_count": 27,
   "metadata": {},
   "outputs": [],
   "source": [
    "## Class of normal and abnormal\n",
    "\n",
    "if result[0][0] == 1:\n",
    "    prediction = 'True'\n",
    "else:\n",
    "   prediction = 'False'"
   ]
  },
  {
   "cell_type": "code",
   "execution_count": 28,
   "metadata": {},
   "outputs": [
    {
     "data": {
      "text/plain": [
       "'False'"
      ]
     },
     "execution_count": 28,
     "metadata": {},
     "output_type": "execute_result"
    }
   ],
   "source": [
    "prediction"
   ]
  },
  {
   "cell_type": "code",
   "execution_count": 29,
   "metadata": {},
   "outputs": [],
   "source": [
    "test_image= image.load_img('boneage-test-dataset/boneage-test-dataset/4360.png',target_size =(64,64))"
   ]
  },
  {
   "cell_type": "code",
   "execution_count": 30,
   "metadata": {},
   "outputs": [
    {
     "data": {
      "text/plain": [
       "'False'"
      ]
     },
     "execution_count": 30,
     "metadata": {},
     "output_type": "execute_result"
    }
   ],
   "source": [
    "prediction"
   ]
  }
 ],
 "metadata": {
  "kernelspec": {
   "display_name": "Python 3",
   "language": "python",
   "name": "python3"
  },
  "language_info": {
   "codemirror_mode": {
    "name": "ipython",
    "version": 3
   },
   "file_extension": ".py",
   "mimetype": "text/x-python",
   "name": "python",
   "nbconvert_exporter": "python",
   "pygments_lexer": "ipython3",
   "version": "3.7.4"
  }
 },
 "nbformat": 4,
 "nbformat_minor": 2
}
